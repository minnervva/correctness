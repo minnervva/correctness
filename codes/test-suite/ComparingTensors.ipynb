{
 "cells": [
  {
   "cell_type": "markdown",
   "id": "fbda2e35-5aee-460e-823c-68f1db4305ca",
   "metadata": {},
   "source": [
    "## Ways to measure differences between tensors\n",
    "\n",
    "From scatter_reduce with \n",
    "* input_dim = (1000,100)\n",
    "* reduction_ration = 0.5\n",
    "* dim = 0\n",
    "* reduce = mean\n",
    "* include_self = False\n",
    "* dtype = torch.float32"
   ]
  },
  {
   "cell_type": "code",
   "execution_count": 98,
   "id": "86d02176-0364-4c34-9377-980b14e1dba8",
   "metadata": {},
   "outputs": [],
   "source": [
    "import torch\n",
    "torch.set_default_dtype(torch.float32)\n",
    "torch.set_printoptions(precision=10)"
   ]
  },
  {
   "cell_type": "code",
   "execution_count": 99,
   "id": "bfc4b6c0-d60b-48ea-be45-0281317eeafd",
   "metadata": {},
   "outputs": [],
   "source": [
    "baseline = torch.load(\"tensor_data/baseline.pt\", map_location=torch.device('cpu'))\n",
    "\n",
    "tensors = [torch.load(\"tensor_data/output_{}.pt\".format(i), map_location = torch.device('cpu')) for i in range(10)]"
   ]
  },
  {
   "cell_type": "code",
   "execution_count": 100,
   "id": "8e3c71d7-87a6-4963-a789-bd09476de3dc",
   "metadata": {},
   "outputs": [
    {
     "name": "stdout",
     "output_type": "stream",
     "text": [
      "1e-5: True | 1e-6: False | 1e-7: False\n",
      "1e-5: True | 1e-6: False | 1e-7: False\n",
      "1e-5: True | 1e-6: False | 1e-7: False\n",
      "1e-5: True | 1e-6: False | 1e-7: False\n",
      "1e-5: True | 1e-6: False | 1e-7: False\n",
      "1e-5: True | 1e-6: False | 1e-7: False\n",
      "1e-5: True | 1e-6: False | 1e-7: False\n",
      "1e-5: True | 1e-6: False | 1e-7: False\n",
      "1e-5: True | 1e-6: False | 1e-7: False\n",
      "1e-5: True | 1e-6: False | 1e-7: False\n"
     ]
    }
   ],
   "source": [
    "for tensor in tensors:\n",
    "    print(\"1e-5: {} | 1e-6: {} | 1e-7: {}\".format(*[torch.allclose(baseline, tensor,rtol=tol) for tol in [1e-5,1e-6,1e-7]]))"
   ]
  },
  {
   "cell_type": "code",
   "execution_count": 101,
   "id": "c9017970-ee48-4d43-a258-3a747a06185a",
   "metadata": {},
   "outputs": [
    {
     "name": "stdout",
     "output_type": "stream",
     "text": [
      "tensor(446)\n",
      "tensor(420)\n",
      "tensor(450)\n",
      "tensor(424)\n",
      "tensor(451)\n",
      "tensor(424)\n",
      "tensor(453)\n",
      "tensor(431)\n",
      "tensor(448)\n",
      "tensor(422)\n"
     ]
    }
   ],
   "source": [
    "zero = torch.tensor([0],dtype=torch.float32)\n",
    "for t in tensors:\n",
    "    print(torch.sum(((baseline-t)!=zero).to(torch.int)))"
   ]
  },
  {
   "cell_type": "code",
   "execution_count": 106,
   "id": "9e3028af-8036-46c3-ac37-b8fa99083994",
   "metadata": {},
   "outputs": [
    {
     "data": {
      "text/plain": [
       "tensor(146.2571105957)"
      ]
     },
     "execution_count": 106,
     "metadata": {},
     "output_type": "execute_result"
    }
   ],
   "source": [
    "torch.norm(baseline,p='fro')"
   ]
  },
  {
   "cell_type": "code",
   "execution_count": 107,
   "id": "68a5971a-b916-40ab-bbc0-642213cb237b",
   "metadata": {},
   "outputs": [
    {
     "name": "stdout",
     "output_type": "stream",
     "text": [
      "tensor(146.2571105957)\n",
      "tensor(146.2571105957)\n",
      "tensor(146.2571105957)\n",
      "tensor(146.2571105957)\n",
      "tensor(146.2571105957)\n",
      "tensor(146.2571105957)\n",
      "tensor(146.2571105957)\n",
      "tensor(146.2571105957)\n",
      "tensor(146.2571105957)\n",
      "tensor(146.2571105957)\n"
     ]
    }
   ],
   "source": [
    "for t in tensors:\n",
    "    print(torch.norm(t,p='fro'))"
   ]
  },
  {
   "cell_type": "code",
   "execution_count": 108,
   "id": "a9e9bbdc-ec7d-4c46-a28f-e93fff9c688d",
   "metadata": {},
   "outputs": [
    {
     "data": {
      "text/plain": [
       "tensor(1020.4395751953)"
      ]
     },
     "execution_count": 108,
     "metadata": {},
     "output_type": "execute_result"
    }
   ],
   "source": [
    "torch.norm(baseline,p='nuc')"
   ]
  },
  {
   "cell_type": "code",
   "execution_count": 109,
   "id": "acc20d39-0bb6-4058-b969-d6e41933d737",
   "metadata": {},
   "outputs": [
    {
     "name": "stdout",
     "output_type": "stream",
     "text": [
      "tensor(1020.4395751953)\n",
      "tensor(1020.4394531250)\n",
      "tensor(1020.4395751953)\n",
      "tensor(1020.4395751953)\n",
      "tensor(1020.4395751953)\n",
      "tensor(1020.4395751953)\n",
      "tensor(1020.4393920898)\n",
      "tensor(1020.4395751953)\n",
      "tensor(1020.4395751953)\n",
      "tensor(1020.4395141602)\n"
     ]
    }
   ],
   "source": [
    "for t in tensors:\n",
    "    print(torch.norm(t,p='nuc'))"
   ]
  },
  {
   "cell_type": "code",
   "execution_count": null,
   "id": "8e2f12dc-553e-4be1-8b84-72af1e0f849f",
   "metadata": {},
   "outputs": [],
   "source": []
  },
  {
   "cell_type": "code",
   "execution_count": null,
   "id": "bfd1e524-d5aa-4b39-88c4-6704a18ce8a2",
   "metadata": {},
   "outputs": [],
   "source": []
  }
 ],
 "metadata": {
  "kernelspec": {
   "display_name": "Python 3 (ipykernel)",
   "language": "python",
   "name": "python3"
  },
  "language_info": {
   "codemirror_mode": {
    "name": "ipython",
    "version": 3
   },
   "file_extension": ".py",
   "mimetype": "text/x-python",
   "name": "python",
   "nbconvert_exporter": "python",
   "pygments_lexer": "ipython3",
   "version": "3.10.14"
  }
 },
 "nbformat": 4,
 "nbformat_minor": 5
}
